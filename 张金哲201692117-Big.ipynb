{
 "cells": [
  {
   "cell_type": "code",
   "execution_count": 1,
   "metadata": {},
   "outputs": [
    {
     "name": "stderr",
     "output_type": "stream",
     "text": [
      "Using TensorFlow backend.\n"
     ]
    }
   ],
   "source": [
    "import os, shutil\n",
    "import tensorflow as tf\n",
    "import keras.backend.tensorflow_backend as KTF\n",
    "config = tf.ConfigProto(gpu_options=tf.GPUOptions(per_process_gpu_memory_fraction=0.2))\n",
    "sess = tf.Session(config=config)\n",
    "KTF.set_session(sess)"
   ]
  },
  {
   "cell_type": "code",
   "execution_count": 3,
   "metadata": {},
   "outputs": [],
   "source": [
    "from keras.preprocessing.image import ImageDataGenerator\n",
    "from keras.preprocessing.image import img_to_array\n",
    "from keras.preprocessing.image import load_img\n",
    "import numpy as np\n",
    "base_dir = './dogImages'\n",
    "train_dir = os.path.join(base_dir, 'train')\n",
    "validation_dir = os.path.join(base_dir, 'valid')\n",
    "test_dir = os.path.join(base_dir, 'test')\n",
    "train_plus_dir=os.path.join(base_dir, 'train_plus2')"
   ]
  },
  {
   "cell_type": "markdown",
   "metadata": {},
   "source": [
    "# 增强数据集的操作"
   ]
  },
  {
   "cell_type": "code",
   "execution_count": 4,
   "metadata": {
    "scrolled": true
   },
   "outputs": [],
   "source": [
    "# if not os.path.exists(train_plus_dir):\n",
    "#     shutil.copytree(train_dir,train_plus_dir)\n",
    "# for kind in os.listdir(train_plus_dir):\n",
    "#     kind_dir=os.path.join(train_plus_dir, kind)\n",
    "#     if len(os.listdir(kind_dir))*4 < 5*len([x for x in os.listdir(kind_dir) if x.startswith('pic_plus')])+5:\n",
    "#         continue\n",
    "#     for pic in os.listdir(kind_dir):\n",
    "#         pic_dir=os.path.join(kind_dir, pic)\n",
    "#         if not pic.endswith(\".jpg\"):\n",
    "#             continue\n",
    "#         if pic.startswith('pic_plus'):\n",
    "#             os.remove(pic_dir)\n",
    "#             continue\n",
    "#         print (pic_dir)\n",
    "#         image = load_img(pic_dir)\n",
    "#         image = img_to_array(image)\n",
    "#         image = np.expand_dims(image, axis=0)\n",
    "#         aug = ImageDataGenerator(rotation_range=30, \n",
    "#                                  width_shift_range=0.1,\n",
    "#                                  height_shift_range=0.1, \n",
    "#                                  shear_range=0.1, \n",
    "#                                  zoom_range=0.2,\n",
    "#                                  horizontal_flip=True, \n",
    "#                                  fill_mode=\"nearest\")\n",
    "#         total = 0\n",
    "#         imageGen = aug.flow(image, batch_size=1, \n",
    "#                             save_to_dir=kind_dir,\n",
    "#                             save_prefix=\"pic_plus\", \n",
    "#                             save_format=\"jpg\")\n",
    "#         print (imageGen)\n",
    "#         for image in imageGen:\n",
    "#         # increment our counter\n",
    "#             total += 1\n",
    "#             # if we have reached 4 examples, break from the loop\n",
    "#             if total == 4:\n",
    "#                 break"
   ]
  },
  {
   "cell_type": "code",
   "execution_count": 5,
   "metadata": {},
   "outputs": [],
   "source": [
    "train_dir=train_plus_dir"
   ]
  },
  {
   "cell_type": "code",
   "execution_count": 6,
   "metadata": {},
   "outputs": [
    {
     "name": "stdout",
     "output_type": "stream",
     "text": [
      "_________________________________________________________________\n",
      "Layer (type)                 Output Shape              Param #   \n",
      "=================================================================\n",
      "input_1 (InputLayer)         (None, 150, 150, 3)       0         \n",
      "_________________________________________________________________\n",
      "block1_conv1 (Conv2D)        (None, 150, 150, 64)      1792      \n",
      "_________________________________________________________________\n",
      "block1_conv2 (Conv2D)        (None, 150, 150, 64)      36928     \n",
      "_________________________________________________________________\n",
      "block1_pool (MaxPooling2D)   (None, 75, 75, 64)        0         \n",
      "_________________________________________________________________\n",
      "block2_conv1 (Conv2D)        (None, 75, 75, 128)       73856     \n",
      "_________________________________________________________________\n",
      "block2_conv2 (Conv2D)        (None, 75, 75, 128)       147584    \n",
      "_________________________________________________________________\n",
      "block2_pool (MaxPooling2D)   (None, 37, 37, 128)       0         \n",
      "_________________________________________________________________\n",
      "block3_conv1 (Conv2D)        (None, 37, 37, 256)       295168    \n",
      "_________________________________________________________________\n",
      "block3_conv2 (Conv2D)        (None, 37, 37, 256)       590080    \n",
      "_________________________________________________________________\n",
      "block3_conv3 (Conv2D)        (None, 37, 37, 256)       590080    \n",
      "_________________________________________________________________\n",
      "block3_pool (MaxPooling2D)   (None, 18, 18, 256)       0         \n",
      "_________________________________________________________________\n",
      "block4_conv1 (Conv2D)        (None, 18, 18, 512)       1180160   \n",
      "_________________________________________________________________\n",
      "block4_conv2 (Conv2D)        (None, 18, 18, 512)       2359808   \n",
      "_________________________________________________________________\n",
      "block4_conv3 (Conv2D)        (None, 18, 18, 512)       2359808   \n",
      "_________________________________________________________________\n",
      "block4_pool (MaxPooling2D)   (None, 9, 9, 512)         0         \n",
      "_________________________________________________________________\n",
      "block5_conv1 (Conv2D)        (None, 9, 9, 512)         2359808   \n",
      "_________________________________________________________________\n",
      "block5_conv2 (Conv2D)        (None, 9, 9, 512)         2359808   \n",
      "_________________________________________________________________\n",
      "block5_conv3 (Conv2D)        (None, 9, 9, 512)         2359808   \n",
      "_________________________________________________________________\n",
      "block5_pool (MaxPooling2D)   (None, 4, 4, 512)         0         \n",
      "=================================================================\n",
      "Total params: 14,714,688\n",
      "Trainable params: 14,714,688\n",
      "Non-trainable params: 0\n",
      "_________________________________________________________________\n"
     ]
    }
   ],
   "source": [
    "from keras.applications import VGG16\n",
    "\n",
    "conv_base = VGG16(weights='imagenet',\n",
    "                  include_top=False,\n",
    "                  input_shape=(150, 150, 3))\n",
    "conv_base.summary()"
   ]
  },
  {
   "cell_type": "code",
   "execution_count": 7,
   "metadata": {},
   "outputs": [
    {
     "name": "stdout",
     "output_type": "stream",
     "text": [
      "_________________________________________________________________\n",
      "Layer (type)                 Output Shape              Param #   \n",
      "=================================================================\n",
      "vgg16 (Model)                (None, 4, 4, 512)         14714688  \n",
      "_________________________________________________________________\n",
      "flatten_1 (Flatten)          (None, 8192)              0         \n",
      "_________________________________________________________________\n",
      "dense_1 (Dense)              (None, 256)               2097408   \n",
      "_________________________________________________________________\n",
      "dense_2 (Dense)              (None, 133)               34181     \n",
      "=================================================================\n",
      "Total params: 16,846,277\n",
      "Trainable params: 16,846,277\n",
      "Non-trainable params: 0\n",
      "_________________________________________________________________\n"
     ]
    }
   ],
   "source": [
    "from keras import layers\n",
    "from keras import models\n",
    "\n",
    "model = models.Sequential()\n",
    "model.add(conv_base)\n",
    "model.add(layers.Flatten())\n",
    "model.add(layers.Dense(256, activation='relu'))\n",
    "model.add(layers.Dense(133, activation='softmax'))\n",
    "model.summary()"
   ]
  },
  {
   "cell_type": "code",
   "execution_count": 8,
   "metadata": {},
   "outputs": [],
   "source": [
    "conv_base.trainable = False"
   ]
  },
  {
   "cell_type": "code",
   "execution_count": 9,
   "metadata": {},
   "outputs": [],
   "source": [
    "from keras import optimizers\n",
    "# lr: float >= 0. 学习率 Learning rate\n",
    "\n",
    "# momentum: float >= 0. 参数更新动量 parameter updates momentum\n",
    "\n",
    "# decay: float >= 0. 学习率每次更新的下降率 Learning rate decay over each update\n",
    "\n",
    "# nesterov: boolean. 是否应用 Nesterov 动量 whether to apply Nesterov momentum\n",
    "model.compile(loss='categorical_crossentropy',\n",
    "              optimizer=optimizers.RMSprop(lr=1e-4),\n",
    "              metrics=['acc'])"
   ]
  },
  {
   "cell_type": "code",
   "execution_count": 10,
   "metadata": {},
   "outputs": [
    {
     "name": "stdout",
     "output_type": "stream",
     "text": [
      "Found 33174 images belonging to 133 classes.\n",
      "Found 835 images belonging to 133 classes.\n",
      "{'001.Affenpinscher': 0, '002.Afghan_hound': 1, '003.Airedale_terrier': 2, '004.Akita': 3, '005.Alaskan_malamute': 4, '006.American_eskimo_dog': 5, '007.American_foxhound': 6, '008.American_staffordshire_terrier': 7, '009.American_water_spaniel': 8, '010.Anatolian_shepherd_dog': 9, '011.Australian_cattle_dog': 10, '012.Australian_shepherd': 11, '013.Australian_terrier': 12, '014.Basenji': 13, '015.Basset_hound': 14, '016.Beagle': 15, '017.Bearded_collie': 16, '018.Beauceron': 17, '019.Bedlington_terrier': 18, '020.Belgian_malinois': 19, '021.Belgian_sheepdog': 20, '022.Belgian_tervuren': 21, '023.Bernese_mountain_dog': 22, '024.Bichon_frise': 23, '025.Black_and_tan_coonhound': 24, '026.Black_russian_terrier': 25, '027.Bloodhound': 26, '028.Bluetick_coonhound': 27, '029.Border_collie': 28, '030.Border_terrier': 29, '031.Borzoi': 30, '032.Boston_terrier': 31, '033.Bouvier_des_flandres': 32, '034.Boxer': 33, '035.Boykin_spaniel': 34, '036.Briard': 35, '037.Brittany': 36, '038.Brussels_griffon': 37, '039.Bull_terrier': 38, '040.Bulldog': 39, '041.Bullmastiff': 40, '042.Cairn_terrier': 41, '043.Canaan_dog': 42, '044.Cane_corso': 43, '045.Cardigan_welsh_corgi': 44, '046.Cavalier_king_charles_spaniel': 45, '047.Chesapeake_bay_retriever': 46, '048.Chihuahua': 47, '049.Chinese_crested': 48, '050.Chinese_shar-pei': 49, '051.Chow_chow': 50, '052.Clumber_spaniel': 51, '053.Cocker_spaniel': 52, '054.Collie': 53, '055.Curly-coated_retriever': 54, '056.Dachshund': 55, '057.Dalmatian': 56, '058.Dandie_dinmont_terrier': 57, '059.Doberman_pinscher': 58, '060.Dogue_de_bordeaux': 59, '061.English_cocker_spaniel': 60, '062.English_setter': 61, '063.English_springer_spaniel': 62, '064.English_toy_spaniel': 63, '065.Entlebucher_mountain_dog': 64, '066.Field_spaniel': 65, '067.Finnish_spitz': 66, '068.Flat-coated_retriever': 67, '069.French_bulldog': 68, '070.German_pinscher': 69, '071.German_shepherd_dog': 70, '072.German_shorthaired_pointer': 71, '073.German_wirehaired_pointer': 72, '074.Giant_schnauzer': 73, '075.Glen_of_imaal_terrier': 74, '076.Golden_retriever': 75, '077.Gordon_setter': 76, '078.Great_dane': 77, '079.Great_pyrenees': 78, '080.Greater_swiss_mountain_dog': 79, '081.Greyhound': 80, '082.Havanese': 81, '083.Ibizan_hound': 82, '084.Icelandic_sheepdog': 83, '085.Irish_red_and_white_setter': 84, '086.Irish_setter': 85, '087.Irish_terrier': 86, '088.Irish_water_spaniel': 87, '089.Irish_wolfhound': 88, '090.Italian_greyhound': 89, '091.Japanese_chin': 90, '092.Keeshond': 91, '093.Kerry_blue_terrier': 92, '094.Komondor': 93, '095.Kuvasz': 94, '096.Labrador_retriever': 95, '097.Lakeland_terrier': 96, '098.Leonberger': 97, '099.Lhasa_apso': 98, '100.Lowchen': 99, '101.Maltese': 100, '102.Manchester_terrier': 101, '103.Mastiff': 102, '104.Miniature_schnauzer': 103, '105.Neapolitan_mastiff': 104, '106.Newfoundland': 105, '107.Norfolk_terrier': 106, '108.Norwegian_buhund': 107, '109.Norwegian_elkhound': 108, '110.Norwegian_lundehund': 109, '111.Norwich_terrier': 110, '112.Nova_scotia_duck_tolling_retriever': 111, '113.Old_english_sheepdog': 112, '114.Otterhound': 113, '115.Papillon': 114, '116.Parson_russell_terrier': 115, '117.Pekingese': 116, '118.Pembroke_welsh_corgi': 117, '119.Petit_basset_griffon_vendeen': 118, '120.Pharaoh_hound': 119, '121.Plott': 120, '122.Pointer': 121, '123.Pomeranian': 122, '124.Poodle': 123, '125.Portuguese_water_dog': 124, '126.Saint_bernard': 125, '127.Silky_terrier': 126, '128.Smooth_fox_terrier': 127, '129.Tibetan_mastiff': 128, '130.Welsh_springer_spaniel': 129, '131.Wirehaired_pointing_griffon': 130, '132.Xoloitzcuintli': 131, '133.Yorkshire_terrier': 132}\n"
     ]
    }
   ],
   "source": [
    "from keras.preprocessing.image import ImageDataGenerator\n",
    "\n",
    "# All images will be rescaled by 1./255\n",
    "train_datagen = ImageDataGenerator(rescale=1./255)\n",
    "validation_datagen = ImageDataGenerator(rescale=1./255)\n",
    "\n",
    "train_generator = train_datagen.flow_from_directory(\n",
    "        # This is the target directory\n",
    "        train_dir,\n",
    "        # All images will be resized to 150x150\n",
    "        target_size=(150, 150),\n",
    "        batch_size=20,\n",
    "        # Since we use binary_crossentropy loss, we need binary labels\n",
    "        class_mode='categorical')\n",
    "\n",
    "validation_generator = validation_datagen.flow_from_directory(\n",
    "        validation_dir,\n",
    "        target_size=(150, 150),\n",
    "        batch_size=100,\n",
    "        class_mode='categorical')\n",
    "validation_generator\n",
    "print(validation_generator.class_indices)\n",
    "np.save('labels.npy', validation_generator.class_indices) "
   ]
  },
  {
   "cell_type": "code",
   "execution_count": 11,
   "metadata": {},
   "outputs": [
    {
     "name": "stdout",
     "output_type": "stream",
     "text": [
      "data batch shape: (20, 150, 150, 3)\n",
      "labels batch shape: (20, 133)\n"
     ]
    }
   ],
   "source": [
    "for data_batch, labels_batch in train_generator:\n",
    "    print('data batch shape:', data_batch.shape)\n",
    "    print('labels batch shape:', labels_batch.shape)\n",
    "    break"
   ]
  },
  {
   "cell_type": "code",
   "execution_count": 12,
   "metadata": {
    "scrolled": true
   },
   "outputs": [
    {
     "name": "stdout",
     "output_type": "stream",
     "text": [
      "Epoch 1/100\n",
      "100/100 [==============================] - 55s 548ms/step - loss: 4.8853 - acc: 0.0190 - val_loss: 4.8129 - val_acc: 0.0227\n",
      "\n",
      "Epoch 00001: val_loss improved from inf to 4.81294, saving model to dogskind.model.weights.best.hdf5\n",
      "Epoch 2/100\n",
      "100/100 [==============================] - 52s 519ms/step - loss: 4.7163 - acc: 0.0480 - val_loss: 4.6774 - val_acc: 0.0432\n",
      "\n",
      "Epoch 00002: val_loss improved from 4.81294 to 4.67736, saving model to dogskind.model.weights.best.hdf5\n",
      "Epoch 3/100\n",
      "100/100 [==============================] - 52s 524ms/step - loss: 4.5590 - acc: 0.0590 - val_loss: 4.4989 - val_acc: 0.0744\n",
      "\n",
      "Epoch 00003: val_loss improved from 4.67736 to 4.49888, saving model to dogskind.model.weights.best.hdf5\n",
      "Epoch 4/100\n",
      "100/100 [==============================] - 51s 509ms/step - loss: 4.3617 - acc: 0.0955 - val_loss: 4.3527 - val_acc: 0.0855\n",
      "\n",
      "Epoch 00004: val_loss improved from 4.49888 to 4.35270, saving model to dogskind.model.weights.best.hdf5\n",
      "Epoch 5/100\n",
      "100/100 [==============================] - 52s 521ms/step - loss: 4.2355 - acc: 0.1060 - val_loss: 4.1862 - val_acc: 0.1219\n",
      "\n",
      "Epoch 00005: val_loss improved from 4.35270 to 4.18619, saving model to dogskind.model.weights.best.hdf5\n",
      "Epoch 6/100\n",
      "100/100 [==============================] - 50s 502ms/step - loss: 4.0136 - acc: 0.1525 - val_loss: 4.0600 - val_acc: 0.1334\n",
      "\n",
      "Epoch 00006: val_loss improved from 4.18619 to 4.06001, saving model to dogskind.model.weights.best.hdf5\n",
      "Epoch 7/100\n",
      "100/100 [==============================] - 50s 498ms/step - loss: 3.9038 - acc: 0.1685 - val_loss: 3.9356 - val_acc: 0.1341\n",
      "\n",
      "Epoch 00007: val_loss improved from 4.06001 to 3.93557, saving model to dogskind.model.weights.best.hdf5\n",
      "Epoch 8/100\n",
      "100/100 [==============================] - 51s 506ms/step - loss: 3.7657 - acc: 0.1740 - val_loss: 3.8148 - val_acc: 0.1655\n",
      "\n",
      "Epoch 00008: val_loss improved from 3.93557 to 3.81484, saving model to dogskind.model.weights.best.hdf5\n",
      "Epoch 9/100\n",
      "100/100 [==============================] - 51s 510ms/step - loss: 3.6723 - acc: 0.1885 - val_loss: 3.7340 - val_acc: 0.1672\n",
      "\n",
      "Epoch 00009: val_loss improved from 3.81484 to 3.73395, saving model to dogskind.model.weights.best.hdf5\n",
      "Epoch 10/100\n",
      "100/100 [==============================] - 49s 487ms/step - loss: 3.5208 - acc: 0.2170 - val_loss: 3.6260 - val_acc: 0.1795\n",
      "\n",
      "Epoch 00010: val_loss improved from 3.73395 to 3.62595, saving model to dogskind.model.weights.best.hdf5\n",
      "Epoch 11/100\n",
      "100/100 [==============================] - 51s 513ms/step - loss: 3.4214 - acc: 0.2400 - val_loss: 3.5577 - val_acc: 0.1675\n",
      "\n",
      "Epoch 00011: val_loss improved from 3.62595 to 3.55769, saving model to dogskind.model.weights.best.hdf5\n",
      "Epoch 12/100\n",
      "100/100 [==============================] - 50s 504ms/step - loss: 3.3356 - acc: 0.2435 - val_loss: 3.4600 - val_acc: 0.2064\n",
      "\n",
      "Epoch 00012: val_loss improved from 3.55769 to 3.45997, saving model to dogskind.model.weights.best.hdf5\n",
      "Epoch 13/100\n",
      "100/100 [==============================] - 49s 494ms/step - loss: 3.2688 - acc: 0.2595 - val_loss: 3.3860 - val_acc: 0.2145\n",
      "\n",
      "Epoch 00013: val_loss improved from 3.45997 to 3.38598, saving model to dogskind.model.weights.best.hdf5\n",
      "Epoch 14/100\n",
      "100/100 [==============================] - 50s 504ms/step - loss: 3.1514 - acc: 0.2805 - val_loss: 3.3178 - val_acc: 0.2379\n",
      "\n",
      "Epoch 00014: val_loss improved from 3.38598 to 3.31778, saving model to dogskind.model.weights.best.hdf5\n",
      "Epoch 15/100\n",
      "100/100 [==============================] - 50s 496ms/step - loss: 3.0961 - acc: 0.2900 - val_loss: 3.2998 - val_acc: 0.2180\n",
      "\n",
      "Epoch 00015: val_loss improved from 3.31778 to 3.29978, saving model to dogskind.model.weights.best.hdf5\n",
      "Epoch 16/100\n",
      "100/100 [==============================] - 51s 509ms/step - loss: 2.9816 - acc: 0.3125 - val_loss: 3.2647 - val_acc: 0.2302\n",
      "\n",
      "Epoch 00016: val_loss improved from 3.29978 to 3.26465, saving model to dogskind.model.weights.best.hdf5\n",
      "Epoch 17/100\n",
      "100/100 [==============================] - 52s 517ms/step - loss: 2.8625 - acc: 0.3448 - val_loss: 3.1600 - val_acc: 0.2503\n",
      "\n",
      "Epoch 00017: val_loss improved from 3.26465 to 3.16004, saving model to dogskind.model.weights.best.hdf5\n",
      "Epoch 18/100\n",
      "100/100 [==============================] - 50s 502ms/step - loss: 2.5886 - acc: 0.4025 - val_loss: 3.1472 - val_acc: 0.2369\n",
      "\n",
      "Epoch 00018: val_loss improved from 3.16004 to 3.14722, saving model to dogskind.model.weights.best.hdf5\n",
      "Epoch 19/100\n",
      "100/100 [==============================] - 51s 509ms/step - loss: 2.5863 - acc: 0.4075 - val_loss: 3.1152 - val_acc: 0.2374\n",
      "\n",
      "Epoch 00019: val_loss improved from 3.14722 to 3.11521, saving model to dogskind.model.weights.best.hdf5\n",
      "Epoch 20/100\n",
      "100/100 [==============================] - 48s 483ms/step - loss: 2.5683 - acc: 0.4055 - val_loss: 3.0703 - val_acc: 0.2597\n",
      "\n",
      "Epoch 00020: val_loss improved from 3.11521 to 3.07027, saving model to dogskind.model.weights.best.hdf5\n",
      "Epoch 21/100\n",
      "100/100 [==============================] - 50s 502ms/step - loss: 2.5660 - acc: 0.4060 - val_loss: 3.0409 - val_acc: 0.2501\n",
      "\n",
      "Epoch 00021: val_loss improved from 3.07027 to 3.04091, saving model to dogskind.model.weights.best.hdf5\n",
      "Epoch 22/100\n",
      "100/100 [==============================] - 50s 503ms/step - loss: 2.4595 - acc: 0.4360 - val_loss: 3.0290 - val_acc: 0.2564\n",
      "\n",
      "Epoch 00022: val_loss improved from 3.04091 to 3.02897, saving model to dogskind.model.weights.best.hdf5\n",
      "Epoch 23/100\n",
      "100/100 [==============================] - 50s 500ms/step - loss: 2.4233 - acc: 0.4445 - val_loss: 2.9777 - val_acc: 0.2689\n",
      "\n",
      "Epoch 00023: val_loss improved from 3.02897 to 2.97772, saving model to dogskind.model.weights.best.hdf5\n",
      "Epoch 24/100\n",
      "100/100 [==============================] - 50s 498ms/step - loss: 2.3754 - acc: 0.4460 - val_loss: 2.9816 - val_acc: 0.2785\n",
      "\n",
      "Epoch 00024: val_loss did not improve from 2.97772\n",
      "Epoch 25/100\n",
      "100/100 [==============================] - 50s 498ms/step - loss: 2.3696 - acc: 0.4360 - val_loss: 2.9395 - val_acc: 0.2817\n",
      "\n",
      "Epoch 00025: val_loss improved from 2.97772 to 2.93947, saving model to dogskind.model.weights.best.hdf5\n",
      "Epoch 26/100\n",
      "100/100 [==============================] - 53s 527ms/step - loss: 2.2875 - acc: 0.4570 - val_loss: 2.9140 - val_acc: 0.2727\n",
      "\n",
      "Epoch 00026: val_loss improved from 2.93947 to 2.91398, saving model to dogskind.model.weights.best.hdf5\n",
      "Epoch 27/100\n",
      "100/100 [==============================] - 49s 490ms/step - loss: 2.3243 - acc: 0.4495 - val_loss: 2.8796 - val_acc: 0.2852\n",
      "\n",
      "Epoch 00027: val_loss improved from 2.91398 to 2.87955, saving model to dogskind.model.weights.best.hdf5\n",
      "Epoch 28/100\n",
      "100/100 [==============================] - 50s 498ms/step - loss: 2.2186 - acc: 0.4685 - val_loss: 2.8983 - val_acc: 0.2781\n",
      "\n",
      "Epoch 00028: val_loss did not improve from 2.87955\n",
      "Epoch 29/100\n",
      "100/100 [==============================] - 49s 488ms/step - loss: 2.1955 - acc: 0.4670 - val_loss: 2.8405 - val_acc: 0.2883\n",
      "\n",
      "Epoch 00029: val_loss improved from 2.87955 to 2.84049, saving model to dogskind.model.weights.best.hdf5\n",
      "Epoch 30/100\n",
      "100/100 [==============================] - 50s 499ms/step - loss: 2.2294 - acc: 0.4485 - val_loss: 2.8476 - val_acc: 0.3012\n",
      "\n",
      "Epoch 00030: val_loss did not improve from 2.84049\n",
      "Epoch 31/100\n",
      "100/100 [==============================] - 50s 502ms/step - loss: 2.1946 - acc: 0.4620 - val_loss: 2.8011 - val_acc: 0.2972\n",
      "\n",
      "Epoch 00031: val_loss improved from 2.84049 to 2.80115, saving model to dogskind.model.weights.best.hdf5\n",
      "Epoch 32/100\n",
      "100/100 [==============================] - 50s 498ms/step - loss: 2.1291 - acc: 0.4865 - val_loss: 2.8222 - val_acc: 0.2836\n",
      "\n",
      "Epoch 00032: val_loss did not improve from 2.80115\n",
      "Epoch 33/100\n",
      "100/100 [==============================] - 49s 495ms/step - loss: 2.1179 - acc: 0.4800 - val_loss: 2.7685 - val_acc: 0.2939\n",
      "\n",
      "Epoch 00033: val_loss improved from 2.80115 to 2.76851, saving model to dogskind.model.weights.best.hdf5\n",
      "Epoch 34/100\n",
      "100/100 [==============================] - 51s 506ms/step - loss: 1.7822 - acc: 0.5872 - val_loss: 2.7746 - val_acc: 0.3198\n",
      "\n",
      "Epoch 00034: val_loss did not improve from 2.76851\n",
      "Epoch 35/100\n",
      "100/100 [==============================] - 51s 505ms/step - loss: 1.8523 - acc: 0.5700 - val_loss: 2.7778 - val_acc: 0.3087\n",
      "\n",
      "Epoch 00035: val_loss did not improve from 2.76851\n",
      "Epoch 36/100\n"
     ]
    },
    {
     "name": "stdout",
     "output_type": "stream",
     "text": [
      "100/100 [==============================] - 52s 516ms/step - loss: 1.7858 - acc: 0.5895 - val_loss: 2.7692 - val_acc: 0.2998\n",
      "\n",
      "Epoch 00036: val_loss did not improve from 2.76851\n",
      "Epoch 37/100\n",
      "100/100 [==============================] - 50s 505ms/step - loss: 1.8378 - acc: 0.5565 - val_loss: 2.7335 - val_acc: 0.3059\n",
      "\n",
      "Epoch 00037: val_loss improved from 2.76851 to 2.73346, saving model to dogskind.model.weights.best.hdf5\n",
      "Epoch 38/100\n",
      "100/100 [==============================] - 50s 503ms/step - loss: 1.8053 - acc: 0.5840 - val_loss: 2.7257 - val_acc: 0.3163\n",
      "\n",
      "Epoch 00038: val_loss improved from 2.73346 to 2.72573, saving model to dogskind.model.weights.best.hdf5\n",
      "Epoch 39/100\n",
      "100/100 [==============================] - 51s 513ms/step - loss: 1.7317 - acc: 0.5920 - val_loss: 2.7030 - val_acc: 0.3166\n",
      "\n",
      "Epoch 00039: val_loss improved from 2.72573 to 2.70296, saving model to dogskind.model.weights.best.hdf5\n",
      "Epoch 40/100\n",
      "100/100 [==============================] - 50s 498ms/step - loss: 1.7124 - acc: 0.5920 - val_loss: 2.6943 - val_acc: 0.3104\n",
      "\n",
      "Epoch 00040: val_loss improved from 2.70296 to 2.69435, saving model to dogskind.model.weights.best.hdf5\n",
      "Epoch 41/100\n",
      "100/100 [==============================] - 50s 505ms/step - loss: 1.7137 - acc: 0.5875 - val_loss: 2.7302 - val_acc: 0.3089\n",
      "\n",
      "Epoch 00041: val_loss did not improve from 2.69435\n",
      "Epoch 42/100\n",
      "100/100 [==============================] - 50s 504ms/step - loss: 1.7265 - acc: 0.5755 - val_loss: 2.7119 - val_acc: 0.3228\n",
      "\n",
      "Epoch 00042: val_loss did not improve from 2.69435\n",
      "Epoch 43/100\n",
      "100/100 [==============================] - 49s 489ms/step - loss: 1.7144 - acc: 0.5845 - val_loss: 2.6605 - val_acc: 0.3138\n",
      "\n",
      "Epoch 00043: val_loss improved from 2.69435 to 2.66046, saving model to dogskind.model.weights.best.hdf5\n",
      "Epoch 44/100\n",
      "100/100 [==============================] - 52s 521ms/step - loss: 1.6866 - acc: 0.5920 - val_loss: 2.6521 - val_acc: 0.3208\n",
      "\n",
      "Epoch 00044: val_loss improved from 2.66046 to 2.65206, saving model to dogskind.model.weights.best.hdf5\n",
      "Epoch 45/100\n",
      "100/100 [==============================] - 49s 488ms/step - loss: 1.6398 - acc: 0.6060 - val_loss: 2.6549 - val_acc: 0.3254\n",
      "\n",
      "Epoch 00045: val_loss did not improve from 2.65206\n",
      "Epoch 46/100\n",
      "100/100 [==============================] - 52s 518ms/step - loss: 1.6498 - acc: 0.5995 - val_loss: 2.6626 - val_acc: 0.3373\n",
      "\n",
      "Epoch 00046: val_loss did not improve from 2.65206\n",
      "Epoch 47/100\n",
      "100/100 [==============================] - 50s 496ms/step - loss: 1.6544 - acc: 0.5945 - val_loss: 2.6693 - val_acc: 0.3319\n",
      "\n",
      "Epoch 00047: val_loss did not improve from 2.65206\n",
      "Epoch 48/100\n",
      "100/100 [==============================] - 49s 493ms/step - loss: 1.6404 - acc: 0.6045 - val_loss: 2.6513 - val_acc: 0.3266\n",
      "\n",
      "Epoch 00048: val_loss improved from 2.65206 to 2.65135, saving model to dogskind.model.weights.best.hdf5\n",
      "Epoch 49/100\n",
      "100/100 [==============================] - 49s 492ms/step - loss: 1.5997 - acc: 0.6100 - val_loss: 2.6117 - val_acc: 0.3542\n",
      "\n",
      "Epoch 00049: val_loss improved from 2.65135 to 2.61171, saving model to dogskind.model.weights.best.hdf5\n",
      "Epoch 50/100\n",
      "100/100 [==============================] - 50s 498ms/step - loss: 1.4970 - acc: 0.6419 - val_loss: 2.6189 - val_acc: 0.3382\n",
      "\n",
      "Epoch 00050: val_loss did not improve from 2.61171\n",
      "Epoch 51/100\n",
      "100/100 [==============================] - 50s 498ms/step - loss: 1.3270 - acc: 0.7010 - val_loss: 2.6586 - val_acc: 0.3193\n",
      "\n",
      "Epoch 00051: val_loss did not improve from 2.61171\n",
      "Epoch 52/100\n",
      "100/100 [==============================] - 51s 513ms/step - loss: 1.3323 - acc: 0.6880 - val_loss: 2.6259 - val_acc: 0.3360\n",
      "\n",
      "Epoch 00052: val_loss did not improve from 2.61171\n",
      "Epoch 53/100\n",
      "100/100 [==============================] - 51s 507ms/step - loss: 1.3679 - acc: 0.6800 - val_loss: 2.5957 - val_acc: 0.3482\n",
      "\n",
      "Epoch 00053: val_loss improved from 2.61171 to 2.59569, saving model to dogskind.model.weights.best.hdf5\n",
      "Epoch 54/100\n",
      "100/100 [==============================] - 49s 495ms/step - loss: 1.3347 - acc: 0.6905 - val_loss: 2.6046 - val_acc: 0.3388\n",
      "\n",
      "Epoch 00054: val_loss did not improve from 2.59569\n",
      "Epoch 55/100\n",
      "100/100 [==============================] - 51s 510ms/step - loss: 1.3270 - acc: 0.6900 - val_loss: 2.6010 - val_acc: 0.3478\n",
      "\n",
      "Epoch 00055: val_loss did not improve from 2.59569\n",
      "Epoch 56/100\n",
      "100/100 [==============================] - 50s 500ms/step - loss: 1.3238 - acc: 0.6890 - val_loss: 2.6056 - val_acc: 0.3397\n",
      "\n",
      "Epoch 00056: val_loss did not improve from 2.59569\n",
      "Epoch 57/100\n",
      "100/100 [==============================] - 52s 525ms/step - loss: 1.3278 - acc: 0.6820 - val_loss: 2.5931 - val_acc: 0.3384\n",
      "\n",
      "Epoch 00057: val_loss improved from 2.59569 to 2.59311, saving model to dogskind.model.weights.best.hdf5\n",
      "Epoch 58/100\n",
      "100/100 [==============================] - 49s 490ms/step - loss: 1.3200 - acc: 0.6895 - val_loss: 2.5759 - val_acc: 0.3486\n",
      "\n",
      "Epoch 00058: val_loss improved from 2.59311 to 2.57594, saving model to dogskind.model.weights.best.hdf5\n",
      "Epoch 59/100\n",
      "100/100 [==============================] - 50s 500ms/step - loss: 1.2784 - acc: 0.7065 - val_loss: 2.6027 - val_acc: 0.3478\n",
      "\n",
      "Epoch 00059: val_loss did not improve from 2.57594\n",
      "Epoch 60/100\n",
      "100/100 [==============================] - 52s 522ms/step - loss: 1.2641 - acc: 0.7145 - val_loss: 2.5777 - val_acc: 0.3440\n",
      "\n",
      "Epoch 00060: val_loss did not improve from 2.57594\n",
      "Epoch 61/100\n",
      "100/100 [==============================] - 52s 518ms/step - loss: 1.2537 - acc: 0.6935 - val_loss: 2.6499 - val_acc: 0.3367\n",
      "\n",
      "Epoch 00061: val_loss did not improve from 2.57594\n",
      "Epoch 62/100\n",
      "100/100 [==============================] - 52s 517ms/step - loss: 1.2974 - acc: 0.6915 - val_loss: 2.6049 - val_acc: 0.3482\n",
      "\n",
      "Epoch 00062: val_loss did not improve from 2.57594\n",
      "Epoch 63/100\n",
      "100/100 [==============================] - 52s 517ms/step - loss: 1.2362 - acc: 0.7070 - val_loss: 2.5882 - val_acc: 0.3495\n",
      "\n",
      "Epoch 00063: val_loss did not improve from 2.57594\n",
      "Epoch 64/100\n",
      "100/100 [==============================] - 50s 503ms/step - loss: 1.2808 - acc: 0.7065 - val_loss: 2.6034 - val_acc: 0.3534\n",
      "\n",
      "Epoch 00064: val_loss did not improve from 2.57594\n",
      "Epoch 65/100\n",
      "100/100 [==============================] - 51s 506ms/step - loss: 1.2823 - acc: 0.6940 - val_loss: 2.5758 - val_acc: 0.3679\n",
      "\n",
      "Epoch 00065: val_loss improved from 2.57594 to 2.57576, saving model to dogskind.model.weights.best.hdf5\n",
      "Epoch 66/100\n",
      "100/100 [==============================] - 51s 505ms/step - loss: 1.2719 - acc: 0.6810 - val_loss: 2.5578 - val_acc: 0.3581\n",
      "\n",
      "Epoch 00066: val_loss improved from 2.57576 to 2.55776, saving model to dogskind.model.weights.best.hdf5\n",
      "Epoch 67/100\n",
      "100/100 [==============================] - 49s 486ms/step - loss: 1.0748 - acc: 0.7594 - val_loss: 2.6014 - val_acc: 0.3473\n",
      "\n",
      "Epoch 00067: val_loss did not improve from 2.55776\n",
      "Epoch 68/100\n",
      "100/100 [==============================] - 50s 502ms/step - loss: 1.0702 - acc: 0.7590 - val_loss: 2.5395 - val_acc: 0.3716\n",
      "\n",
      "Epoch 00068: val_loss improved from 2.55776 to 2.53954, saving model to dogskind.model.weights.best.hdf5\n",
      "Epoch 69/100\n",
      "100/100 [==============================] - 51s 506ms/step - loss: 1.0301 - acc: 0.7820 - val_loss: 2.5648 - val_acc: 0.3579\n",
      "\n",
      "Epoch 00069: val_loss did not improve from 2.53954\n",
      "Epoch 70/100\n",
      "100/100 [==============================] - 52s 516ms/step - loss: 0.9975 - acc: 0.7770 - val_loss: 2.5470 - val_acc: 0.3529\n",
      "\n",
      "Epoch 00070: val_loss did not improve from 2.53954\n",
      "Epoch 71/100\n",
      "100/100 [==============================] - 53s 527ms/step - loss: 0.9819 - acc: 0.7725 - val_loss: 2.6005 - val_acc: 0.3458\n",
      "\n",
      "Epoch 00071: val_loss did not improve from 2.53954\n",
      "Epoch 72/100\n",
      "100/100 [==============================] - 50s 502ms/step - loss: 0.9998 - acc: 0.7725 - val_loss: 2.5436 - val_acc: 0.3590\n",
      "\n",
      "Epoch 00072: val_loss did not improve from 2.53954\n",
      "Epoch 73/100\n",
      "100/100 [==============================] - 53s 529ms/step - loss: 1.0227 - acc: 0.7665 - val_loss: 2.6018 - val_acc: 0.3540\n",
      "\n",
      "Epoch 00073: val_loss did not improve from 2.53954\n",
      "Epoch 74/100\n",
      "100/100 [==============================] - 52s 524ms/step - loss: 1.0178 - acc: 0.7675 - val_loss: 2.5474 - val_acc: 0.3529\n",
      "\n",
      "Epoch 00074: val_loss did not improve from 2.53954\n",
      "Epoch 75/100\n"
     ]
    },
    {
     "name": "stdout",
     "output_type": "stream",
     "text": [
      "100/100 [==============================] - 55s 545ms/step - loss: 0.9844 - acc: 0.7810 - val_loss: 2.5757 - val_acc: 0.3484\n",
      "\n",
      "Epoch 00075: val_loss did not improve from 2.53954\n"
     ]
    }
   ],
   "source": [
    "from keras.callbacks import ModelCheckpoint\n",
    "from keras.callbacks import EarlyStopping\n",
    "from PIL import ImageFile\n",
    "early_stopping = EarlyStopping(monitor='val_loss',patience=7) \n",
    "ImageFile.LOAD_TRUNCATED_IMAGES = True\n",
    "checkpointer = ModelCheckpoint(filepath='dogskind.model.weights.best.hdf5', verbose=1, \n",
    "                               save_best_only=True)\n",
    "history = model.fit_generator(train_generator,\n",
    "      steps_per_epoch=100,\n",
    "      epochs=100,\n",
    "      validation_data=validation_generator,\n",
    "      validation_steps=50, \n",
    "      callbacks=[early_stopping,checkpointer], \n",
    "      verbose=1)"
   ]
  },
  {
   "cell_type": "code",
   "execution_count": 13,
   "metadata": {},
   "outputs": [
    {
     "name": "stdout",
     "output_type": "stream",
     "text": [
      "Epoch 1/100\n",
      " 99/100 [============================>.] - ETA: 0s - loss: 1.0209 - acc: 0.7601"
     ]
    },
    {
     "ename": "KeyboardInterrupt",
     "evalue": "",
     "output_type": "error",
     "traceback": [
      "\u001b[0;31m---------------------------------------------------------------------------\u001b[0m",
      "\u001b[0;31mKeyboardInterrupt\u001b[0m                         Traceback (most recent call last)",
      "\u001b[0;32m<ipython-input-13-e068def3b1e9>\u001b[0m in \u001b[0;36m<module>\u001b[0;34m\u001b[0m\n\u001b[1;32m      5\u001b[0m       \u001b[0mvalidation_steps\u001b[0m\u001b[0;34m=\u001b[0m\u001b[0;36m50\u001b[0m\u001b[0;34m,\u001b[0m\u001b[0;34m\u001b[0m\u001b[0m\n\u001b[1;32m      6\u001b[0m       \u001b[0mcallbacks\u001b[0m\u001b[0;34m=\u001b[0m\u001b[0;34m[\u001b[0m\u001b[0mearly_stopping\u001b[0m\u001b[0;34m,\u001b[0m\u001b[0mcheckpointer\u001b[0m\u001b[0;34m]\u001b[0m\u001b[0;34m,\u001b[0m\u001b[0;34m\u001b[0m\u001b[0m\n\u001b[0;32m----> 7\u001b[0;31m       verbose=1)\n\u001b[0m",
      "\u001b[0;32m~/anaconda3/envs/tensorflow/lib/python3.6/site-packages/keras/legacy/interfaces.py\u001b[0m in \u001b[0;36mwrapper\u001b[0;34m(*args, **kwargs)\u001b[0m\n\u001b[1;32m     89\u001b[0m                 warnings.warn('Update your `' + object_name + '` call to the ' +\n\u001b[1;32m     90\u001b[0m                               'Keras 2 API: ' + signature, stacklevel=2)\n\u001b[0;32m---> 91\u001b[0;31m             \u001b[0;32mreturn\u001b[0m \u001b[0mfunc\u001b[0m\u001b[0;34m(\u001b[0m\u001b[0;34m*\u001b[0m\u001b[0margs\u001b[0m\u001b[0;34m,\u001b[0m \u001b[0;34m**\u001b[0m\u001b[0mkwargs\u001b[0m\u001b[0;34m)\u001b[0m\u001b[0;34m\u001b[0m\u001b[0m\n\u001b[0m\u001b[1;32m     92\u001b[0m         \u001b[0mwrapper\u001b[0m\u001b[0;34m.\u001b[0m\u001b[0m_original_function\u001b[0m \u001b[0;34m=\u001b[0m \u001b[0mfunc\u001b[0m\u001b[0;34m\u001b[0m\u001b[0m\n\u001b[1;32m     93\u001b[0m         \u001b[0;32mreturn\u001b[0m \u001b[0mwrapper\u001b[0m\u001b[0;34m\u001b[0m\u001b[0m\n",
      "\u001b[0;32m~/anaconda3/envs/tensorflow/lib/python3.6/site-packages/keras/engine/training.py\u001b[0m in \u001b[0;36mfit_generator\u001b[0;34m(self, generator, steps_per_epoch, epochs, verbose, callbacks, validation_data, validation_steps, class_weight, max_queue_size, workers, use_multiprocessing, shuffle, initial_epoch)\u001b[0m\n\u001b[1;32m   1416\u001b[0m             \u001b[0muse_multiprocessing\u001b[0m\u001b[0;34m=\u001b[0m\u001b[0muse_multiprocessing\u001b[0m\u001b[0;34m,\u001b[0m\u001b[0;34m\u001b[0m\u001b[0m\n\u001b[1;32m   1417\u001b[0m             \u001b[0mshuffle\u001b[0m\u001b[0;34m=\u001b[0m\u001b[0mshuffle\u001b[0m\u001b[0;34m,\u001b[0m\u001b[0;34m\u001b[0m\u001b[0m\n\u001b[0;32m-> 1418\u001b[0;31m             initial_epoch=initial_epoch)\n\u001b[0m\u001b[1;32m   1419\u001b[0m \u001b[0;34m\u001b[0m\u001b[0m\n\u001b[1;32m   1420\u001b[0m     \u001b[0;34m@\u001b[0m\u001b[0minterfaces\u001b[0m\u001b[0;34m.\u001b[0m\u001b[0mlegacy_generator_methods_support\u001b[0m\u001b[0;34m\u001b[0m\u001b[0m\n",
      "\u001b[0;32m~/anaconda3/envs/tensorflow/lib/python3.6/site-packages/keras/engine/training_generator.py\u001b[0m in \u001b[0;36mfit_generator\u001b[0;34m(model, generator, steps_per_epoch, epochs, verbose, callbacks, validation_data, validation_steps, class_weight, max_queue_size, workers, use_multiprocessing, shuffle, initial_epoch)\u001b[0m\n\u001b[1;32m    232\u001b[0m                             \u001b[0mval_enqueuer_gen\u001b[0m\u001b[0;34m,\u001b[0m\u001b[0;34m\u001b[0m\u001b[0m\n\u001b[1;32m    233\u001b[0m                             \u001b[0mvalidation_steps\u001b[0m\u001b[0;34m,\u001b[0m\u001b[0;34m\u001b[0m\u001b[0m\n\u001b[0;32m--> 234\u001b[0;31m                             workers=0)\n\u001b[0m\u001b[1;32m    235\u001b[0m                     \u001b[0;32melse\u001b[0m\u001b[0;34m:\u001b[0m\u001b[0;34m\u001b[0m\u001b[0m\n\u001b[1;32m    236\u001b[0m                         \u001b[0;31m# No need for try/except because\u001b[0m\u001b[0;34m\u001b[0m\u001b[0;34m\u001b[0m\u001b[0m\n",
      "\u001b[0;32m~/anaconda3/envs/tensorflow/lib/python3.6/site-packages/keras/legacy/interfaces.py\u001b[0m in \u001b[0;36mwrapper\u001b[0;34m(*args, **kwargs)\u001b[0m\n\u001b[1;32m     89\u001b[0m                 warnings.warn('Update your `' + object_name + '` call to the ' +\n\u001b[1;32m     90\u001b[0m                               'Keras 2 API: ' + signature, stacklevel=2)\n\u001b[0;32m---> 91\u001b[0;31m             \u001b[0;32mreturn\u001b[0m \u001b[0mfunc\u001b[0m\u001b[0;34m(\u001b[0m\u001b[0;34m*\u001b[0m\u001b[0margs\u001b[0m\u001b[0;34m,\u001b[0m \u001b[0;34m**\u001b[0m\u001b[0mkwargs\u001b[0m\u001b[0;34m)\u001b[0m\u001b[0;34m\u001b[0m\u001b[0m\n\u001b[0m\u001b[1;32m     92\u001b[0m         \u001b[0mwrapper\u001b[0m\u001b[0;34m.\u001b[0m\u001b[0m_original_function\u001b[0m \u001b[0;34m=\u001b[0m \u001b[0mfunc\u001b[0m\u001b[0;34m\u001b[0m\u001b[0m\n\u001b[1;32m     93\u001b[0m         \u001b[0;32mreturn\u001b[0m \u001b[0mwrapper\u001b[0m\u001b[0;34m\u001b[0m\u001b[0m\n",
      "\u001b[0;32m~/anaconda3/envs/tensorflow/lib/python3.6/site-packages/keras/engine/training.py\u001b[0m in \u001b[0;36mevaluate_generator\u001b[0;34m(self, generator, steps, max_queue_size, workers, use_multiprocessing, verbose)\u001b[0m\n\u001b[1;32m   1470\u001b[0m             \u001b[0mworkers\u001b[0m\u001b[0;34m=\u001b[0m\u001b[0mworkers\u001b[0m\u001b[0;34m,\u001b[0m\u001b[0;34m\u001b[0m\u001b[0m\n\u001b[1;32m   1471\u001b[0m             \u001b[0muse_multiprocessing\u001b[0m\u001b[0;34m=\u001b[0m\u001b[0muse_multiprocessing\u001b[0m\u001b[0;34m,\u001b[0m\u001b[0;34m\u001b[0m\u001b[0m\n\u001b[0;32m-> 1472\u001b[0;31m             verbose=verbose)\n\u001b[0m\u001b[1;32m   1473\u001b[0m \u001b[0;34m\u001b[0m\u001b[0m\n\u001b[1;32m   1474\u001b[0m     \u001b[0;34m@\u001b[0m\u001b[0minterfaces\u001b[0m\u001b[0;34m.\u001b[0m\u001b[0mlegacy_generator_methods_support\u001b[0m\u001b[0;34m\u001b[0m\u001b[0m\n",
      "\u001b[0;32m~/anaconda3/envs/tensorflow/lib/python3.6/site-packages/keras/engine/training_generator.py\u001b[0m in \u001b[0;36mevaluate_generator\u001b[0;34m(model, generator, steps, max_queue_size, workers, use_multiprocessing, verbose)\u001b[0m\n\u001b[1;32m    328\u001b[0m \u001b[0;34m\u001b[0m\u001b[0m\n\u001b[1;32m    329\u001b[0m         \u001b[0;32mwhile\u001b[0m \u001b[0msteps_done\u001b[0m \u001b[0;34m<\u001b[0m \u001b[0msteps\u001b[0m\u001b[0;34m:\u001b[0m\u001b[0;34m\u001b[0m\u001b[0m\n\u001b[0;32m--> 330\u001b[0;31m             \u001b[0mgenerator_output\u001b[0m \u001b[0;34m=\u001b[0m \u001b[0mnext\u001b[0m\u001b[0;34m(\u001b[0m\u001b[0moutput_generator\u001b[0m\u001b[0;34m)\u001b[0m\u001b[0;34m\u001b[0m\u001b[0m\n\u001b[0m\u001b[1;32m    331\u001b[0m             \u001b[0;32mif\u001b[0m \u001b[0;32mnot\u001b[0m \u001b[0mhasattr\u001b[0m\u001b[0;34m(\u001b[0m\u001b[0mgenerator_output\u001b[0m\u001b[0;34m,\u001b[0m \u001b[0;34m'__len__'\u001b[0m\u001b[0;34m)\u001b[0m\u001b[0;34m:\u001b[0m\u001b[0;34m\u001b[0m\u001b[0m\n\u001b[1;32m    332\u001b[0m                 raise ValueError('Output of generator should be a tuple '\n",
      "\u001b[0;32m~/anaconda3/envs/tensorflow/lib/python3.6/site-packages/keras/utils/data_utils.py\u001b[0m in \u001b[0;36mget\u001b[0;34m(self)\u001b[0m\n\u001b[1;32m    683\u001b[0m         \u001b[0;32mtry\u001b[0m\u001b[0;34m:\u001b[0m\u001b[0;34m\u001b[0m\u001b[0m\n\u001b[1;32m    684\u001b[0m             \u001b[0;32mwhile\u001b[0m \u001b[0mself\u001b[0m\u001b[0;34m.\u001b[0m\u001b[0mis_running\u001b[0m\u001b[0;34m(\u001b[0m\u001b[0;34m)\u001b[0m\u001b[0;34m:\u001b[0m\u001b[0;34m\u001b[0m\u001b[0m\n\u001b[0;32m--> 685\u001b[0;31m                 \u001b[0minputs\u001b[0m \u001b[0;34m=\u001b[0m \u001b[0mself\u001b[0m\u001b[0;34m.\u001b[0m\u001b[0mqueue\u001b[0m\u001b[0;34m.\u001b[0m\u001b[0mget\u001b[0m\u001b[0;34m(\u001b[0m\u001b[0mblock\u001b[0m\u001b[0;34m=\u001b[0m\u001b[0;32mTrue\u001b[0m\u001b[0;34m)\u001b[0m\u001b[0;34m.\u001b[0m\u001b[0mget\u001b[0m\u001b[0;34m(\u001b[0m\u001b[0;34m)\u001b[0m\u001b[0;34m\u001b[0m\u001b[0m\n\u001b[0m\u001b[1;32m    686\u001b[0m                 \u001b[0mself\u001b[0m\u001b[0;34m.\u001b[0m\u001b[0mqueue\u001b[0m\u001b[0;34m.\u001b[0m\u001b[0mtask_done\u001b[0m\u001b[0;34m(\u001b[0m\u001b[0;34m)\u001b[0m\u001b[0;34m\u001b[0m\u001b[0m\n\u001b[1;32m    687\u001b[0m                 \u001b[0;32mif\u001b[0m \u001b[0minputs\u001b[0m \u001b[0;32mis\u001b[0m \u001b[0;32mnot\u001b[0m \u001b[0;32mNone\u001b[0m\u001b[0;34m:\u001b[0m\u001b[0;34m\u001b[0m\u001b[0m\n",
      "\u001b[0;32m~/anaconda3/envs/tensorflow/lib/python3.6/multiprocessing/pool.py\u001b[0m in \u001b[0;36mget\u001b[0;34m(self, timeout)\u001b[0m\n\u001b[1;32m    636\u001b[0m \u001b[0;34m\u001b[0m\u001b[0m\n\u001b[1;32m    637\u001b[0m     \u001b[0;32mdef\u001b[0m \u001b[0mget\u001b[0m\u001b[0;34m(\u001b[0m\u001b[0mself\u001b[0m\u001b[0;34m,\u001b[0m \u001b[0mtimeout\u001b[0m\u001b[0;34m=\u001b[0m\u001b[0;32mNone\u001b[0m\u001b[0;34m)\u001b[0m\u001b[0;34m:\u001b[0m\u001b[0;34m\u001b[0m\u001b[0m\n\u001b[0;32m--> 638\u001b[0;31m         \u001b[0mself\u001b[0m\u001b[0;34m.\u001b[0m\u001b[0mwait\u001b[0m\u001b[0;34m(\u001b[0m\u001b[0mtimeout\u001b[0m\u001b[0;34m)\u001b[0m\u001b[0;34m\u001b[0m\u001b[0m\n\u001b[0m\u001b[1;32m    639\u001b[0m         \u001b[0;32mif\u001b[0m \u001b[0;32mnot\u001b[0m \u001b[0mself\u001b[0m\u001b[0;34m.\u001b[0m\u001b[0mready\u001b[0m\u001b[0;34m(\u001b[0m\u001b[0;34m)\u001b[0m\u001b[0;34m:\u001b[0m\u001b[0;34m\u001b[0m\u001b[0m\n\u001b[1;32m    640\u001b[0m             \u001b[0;32mraise\u001b[0m \u001b[0mTimeoutError\u001b[0m\u001b[0;34m\u001b[0m\u001b[0m\n",
      "\u001b[0;32m~/anaconda3/envs/tensorflow/lib/python3.6/multiprocessing/pool.py\u001b[0m in \u001b[0;36mwait\u001b[0;34m(self, timeout)\u001b[0m\n\u001b[1;32m    633\u001b[0m \u001b[0;34m\u001b[0m\u001b[0m\n\u001b[1;32m    634\u001b[0m     \u001b[0;32mdef\u001b[0m \u001b[0mwait\u001b[0m\u001b[0;34m(\u001b[0m\u001b[0mself\u001b[0m\u001b[0;34m,\u001b[0m \u001b[0mtimeout\u001b[0m\u001b[0;34m=\u001b[0m\u001b[0;32mNone\u001b[0m\u001b[0;34m)\u001b[0m\u001b[0;34m:\u001b[0m\u001b[0;34m\u001b[0m\u001b[0m\n\u001b[0;32m--> 635\u001b[0;31m         \u001b[0mself\u001b[0m\u001b[0;34m.\u001b[0m\u001b[0m_event\u001b[0m\u001b[0;34m.\u001b[0m\u001b[0mwait\u001b[0m\u001b[0;34m(\u001b[0m\u001b[0mtimeout\u001b[0m\u001b[0;34m)\u001b[0m\u001b[0;34m\u001b[0m\u001b[0m\n\u001b[0m\u001b[1;32m    636\u001b[0m \u001b[0;34m\u001b[0m\u001b[0m\n\u001b[1;32m    637\u001b[0m     \u001b[0;32mdef\u001b[0m \u001b[0mget\u001b[0m\u001b[0;34m(\u001b[0m\u001b[0mself\u001b[0m\u001b[0;34m,\u001b[0m \u001b[0mtimeout\u001b[0m\u001b[0;34m=\u001b[0m\u001b[0;32mNone\u001b[0m\u001b[0;34m)\u001b[0m\u001b[0;34m:\u001b[0m\u001b[0;34m\u001b[0m\u001b[0m\n",
      "\u001b[0;32m~/anaconda3/envs/tensorflow/lib/python3.6/threading.py\u001b[0m in \u001b[0;36mwait\u001b[0;34m(self, timeout)\u001b[0m\n\u001b[1;32m    549\u001b[0m             \u001b[0msignaled\u001b[0m \u001b[0;34m=\u001b[0m \u001b[0mself\u001b[0m\u001b[0;34m.\u001b[0m\u001b[0m_flag\u001b[0m\u001b[0;34m\u001b[0m\u001b[0m\n\u001b[1;32m    550\u001b[0m             \u001b[0;32mif\u001b[0m \u001b[0;32mnot\u001b[0m \u001b[0msignaled\u001b[0m\u001b[0;34m:\u001b[0m\u001b[0;34m\u001b[0m\u001b[0m\n\u001b[0;32m--> 551\u001b[0;31m                 \u001b[0msignaled\u001b[0m \u001b[0;34m=\u001b[0m \u001b[0mself\u001b[0m\u001b[0;34m.\u001b[0m\u001b[0m_cond\u001b[0m\u001b[0;34m.\u001b[0m\u001b[0mwait\u001b[0m\u001b[0;34m(\u001b[0m\u001b[0mtimeout\u001b[0m\u001b[0;34m)\u001b[0m\u001b[0;34m\u001b[0m\u001b[0m\n\u001b[0m\u001b[1;32m    552\u001b[0m             \u001b[0;32mreturn\u001b[0m \u001b[0msignaled\u001b[0m\u001b[0;34m\u001b[0m\u001b[0m\n\u001b[1;32m    553\u001b[0m \u001b[0;34m\u001b[0m\u001b[0m\n",
      "\u001b[0;32m~/anaconda3/envs/tensorflow/lib/python3.6/threading.py\u001b[0m in \u001b[0;36mwait\u001b[0;34m(self, timeout)\u001b[0m\n\u001b[1;32m    293\u001b[0m         \u001b[0;32mtry\u001b[0m\u001b[0;34m:\u001b[0m    \u001b[0;31m# restore state no matter what (e.g., KeyboardInterrupt)\u001b[0m\u001b[0;34m\u001b[0m\u001b[0m\n\u001b[1;32m    294\u001b[0m             \u001b[0;32mif\u001b[0m \u001b[0mtimeout\u001b[0m \u001b[0;32mis\u001b[0m \u001b[0;32mNone\u001b[0m\u001b[0;34m:\u001b[0m\u001b[0;34m\u001b[0m\u001b[0m\n\u001b[0;32m--> 295\u001b[0;31m                 \u001b[0mwaiter\u001b[0m\u001b[0;34m.\u001b[0m\u001b[0macquire\u001b[0m\u001b[0;34m(\u001b[0m\u001b[0;34m)\u001b[0m\u001b[0;34m\u001b[0m\u001b[0m\n\u001b[0m\u001b[1;32m    296\u001b[0m                 \u001b[0mgotit\u001b[0m \u001b[0;34m=\u001b[0m \u001b[0;32mTrue\u001b[0m\u001b[0;34m\u001b[0m\u001b[0m\n\u001b[1;32m    297\u001b[0m             \u001b[0;32melse\u001b[0m\u001b[0;34m:\u001b[0m\u001b[0;34m\u001b[0m\u001b[0m\n",
      "\u001b[0;31mKeyboardInterrupt\u001b[0m: "
     ]
    }
   ],
   "source": [
    "history = model.fit_generator(train_generator,\n",
    "      steps_per_epoch=100,\n",
    "      epochs=100,\n",
    "      validation_data=validation_generator,\n",
    "      validation_steps=50, \n",
    "      callbacks=[early_stopping,checkpointer], \n",
    "      verbose=1)"
   ]
  },
  {
   "cell_type": "code",
   "execution_count": 14,
   "metadata": {
    "scrolled": false
   },
   "outputs": [],
   "source": [
    "model.load_weights('dogskind.model.weights.best.hdf5')"
   ]
  },
  {
   "cell_type": "code",
   "execution_count": 18,
   "metadata": {},
   "outputs": [
    {
     "name": "stdout",
     "output_type": "stream",
     "text": [
      "Found 836 images belonging to 133 classes.\n"
     ]
    },
    {
     "data": {
      "text/plain": [
       "[2.5728933741064632, 0.3088235329179203]"
      ]
     },
     "execution_count": 18,
     "metadata": {},
     "output_type": "execute_result"
    }
   ],
   "source": [
    "test_datagen = ImageDataGenerator(rescale=1./255)\n",
    "test_generator = test_datagen.flow_from_directory(\n",
    "        test_dir,\n",
    "        target_size=(150, 150),\n",
    "        batch_size=20,\n",
    "        class_mode='categorical')\n",
    "\n",
    "model.evaluate_generator(test_generator,steps=17, max_queue_size=50, workers=1, use_multiprocessing=True, verbose=0)"
   ]
  },
  {
   "cell_type": "code",
   "execution_count": 15,
   "metadata": {},
   "outputs": [
    {
     "data": {
      "image/png": "[encoded data removed]",
      "text/plain": [
       "<Figure size 432x288 with 1 Axes>"
      ]
     },
     "metadata": {
      "needs_background": "light"
     },
     "output_type": "display_data"
    },
    {
     "data": {
      "image/png": "[encoded data removed]",
      "text/plain": [
       "<Figure size 432x288 with 1 Axes>"
      ]
     },
     "metadata": {
      "needs_background": "light"
     },
     "output_type": "display_data"
    }
   ],
   "source": [
    "import matplotlib as mpl\n",
    "mpl.use('Agg')\n",
    "import matplotlib.pyplot as plt\n",
    "acc = history.history['acc']\n",
    "val_acc = history.history['val_acc']\n",
    "loss = history.history['loss']\n",
    "val_loss = history.history['val_loss']\n",
    "\n",
    "epochs = range(len(acc))\n",
    "\n",
    "plt.plot(epochs, acc, 'bo', label='Training acc')\n",
    "plt.plot(epochs, val_acc, 'b', label='Validation acc')\n",
    "plt.title('Training and validation accuracy')\n",
    "plt.legend()\n",
    "\n",
    "plt.figure()\n",
    "\n",
    "plt.plot(epochs, loss, 'bo', label='Training loss')\n",
    "plt.plot(epochs, val_loss, 'b', label='Validation loss')\n",
    "plt.title('Training and validation loss')\n",
    "plt.legend()\n",
    "\n",
    "plt.show()"
   ]
  },
  {
   "cell_type": "code",
   "execution_count": 23,
   "metadata": {},
   "outputs": [],
   "source": [
    "yaml_string = model.to_yaml()\n",
    "with open('./0cp.yaml', 'w') as outfile:\n",
    "    outfile.write(yaml_string)"
   ]
  }
 ],
 "metadata": {
  "kernelspec": {
   "display_name": "Python 3",
   "language": "python",
   "name": "python3"
  },
  "language_info": {
   "codemirror_mode": {
    "name": "ipython",
    "version": 3
   },
   "file_extension": ".py",
   "mimetype": "text/x-python",
   "name": "python",
   "nbconvert_exporter": "python",
   "pygments_lexer": "ipython3",
   "version": "3.6.6"
  }
 },
 "nbformat": 4,
 "nbformat_minor": 2
}
