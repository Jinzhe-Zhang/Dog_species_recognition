{
 "cells": [
  {
   "cell_type": "code",
   "execution_count": 1,
   "metadata": {},
   "outputs": [
    {
     "name": "stderr",
     "output_type": "stream",
     "text": [
      "Using TensorFlow backend.\n"
     ]
    }
   ],
   "source": [
    "from keras.applications import VGG16\n",
    "\n",
    "conv_base = VGG16(weights='imagenet',\n",
    "                  include_top=False,\n",
    "                  input_shape=(150, 150, 3))"
   ]
  },
  {
   "cell_type": "code",
   "execution_count": 2,
   "metadata": {},
   "outputs": [
    {
     "name": "stdout",
     "output_type": "stream",
     "text": [
      "_________________________________________________________________\n",
      "Layer (type)                 Output Shape              Param #   \n",
      "=================================================================\n",
      "input_1 (InputLayer)         (None, 150, 150, 3)       0         \n",
      "_________________________________________________________________\n",
      "block1_conv1 (Conv2D)        (None, 150, 150, 64)      1792      \n",
      "_________________________________________________________________\n",
      "block1_conv2 (Conv2D)        (None, 150, 150, 64)      36928     \n",
      "_________________________________________________________________\n",
      "block1_pool (MaxPooling2D)   (None, 75, 75, 64)        0         \n",
      "_________________________________________________________________\n",
      "block2_conv1 (Conv2D)        (None, 75, 75, 128)       73856     \n",
      "_________________________________________________________________\n",
      "block2_conv2 (Conv2D)        (None, 75, 75, 128)       147584    \n",
      "_________________________________________________________________\n",
      "block2_pool (MaxPooling2D)   (None, 37, 37, 128)       0         \n",
      "_________________________________________________________________\n",
      "block3_conv1 (Conv2D)        (None, 37, 37, 256)       295168    \n",
      "_________________________________________________________________\n",
      "block3_conv2 (Conv2D)        (None, 37, 37, 256)       590080    \n",
      "_________________________________________________________________\n",
      "block3_conv3 (Conv2D)        (None, 37, 37, 256)       590080    \n",
      "_________________________________________________________________\n",
      "block3_pool (MaxPooling2D)   (None, 18, 18, 256)       0         \n",
      "_________________________________________________________________\n",
      "block4_conv1 (Conv2D)        (None, 18, 18, 512)       1180160   \n",
      "_________________________________________________________________\n",
      "block4_conv2 (Conv2D)        (None, 18, 18, 512)       2359808   \n",
      "_________________________________________________________________\n",
      "block4_conv3 (Conv2D)        (None, 18, 18, 512)       2359808   \n",
      "_________________________________________________________________\n",
      "block4_pool (MaxPooling2D)   (None, 9, 9, 512)         0         \n",
      "_________________________________________________________________\n",
      "block5_conv1 (Conv2D)        (None, 9, 9, 512)         2359808   \n",
      "_________________________________________________________________\n",
      "block5_conv2 (Conv2D)        (None, 9, 9, 512)         2359808   \n",
      "_________________________________________________________________\n",
      "block5_conv3 (Conv2D)        (None, 9, 9, 512)         2359808   \n",
      "_________________________________________________________________\n",
      "block5_pool (MaxPooling2D)   (None, 4, 4, 512)         0         \n",
      "=================================================================\n",
      "Total params: 14,714,688\n",
      "Trainable params: 14,714,688\n",
      "Non-trainable params: 0\n",
      "_________________________________________________________________\n"
     ]
    }
   ],
   "source": [
    "conv_base.summary()"
   ]
  },
  {
   "cell_type": "code",
   "execution_count": 3,
   "metadata": {},
   "outputs": [],
   "source": [
    "import os\n",
    "import numpy as np\n",
    "from keras.preprocessing.image import ImageDataGenerator\n",
    "\n",
    "base_dir = './dogImages'\n",
    "\n",
    "train_dir = os.path.join(base_dir, 'train')\n",
    "validation_dir = os.path.join(base_dir, 'valid')\n",
    "test_dir = os.path.join(base_dir, 'test')"
   ]
  },
  {
   "cell_type": "code",
   "execution_count": 4,
   "metadata": {},
   "outputs": [],
   "source": [
    "from keras import models\n",
    "from keras import layers\n",
    "\n",
    "model = models.Sequential()\n",
    "model.add(conv_base)\n",
    "model.add(layers.Flatten())\n",
    "model.add(layers.Dense(256, activation='relu'))\n",
    "model.add(layers.Dense(133, activation='softmax'))"
   ]
  },
  {
   "cell_type": "code",
   "execution_count": 5,
   "metadata": {},
   "outputs": [
    {
     "name": "stdout",
     "output_type": "stream",
     "text": [
      "_________________________________________________________________\n",
      "Layer (type)                 Output Shape              Param #   \n",
      "=================================================================\n",
      "vgg16 (Model)                (None, 4, 4, 512)         14714688  \n",
      "_________________________________________________________________\n",
      "flatten_1 (Flatten)          (None, 8192)              0         \n",
      "_________________________________________________________________\n",
      "dense_1 (Dense)              (None, 256)               2097408   \n",
      "_________________________________________________________________\n",
      "dense_2 (Dense)              (None, 133)               34181     \n",
      "=================================================================\n",
      "Total params: 16,846,277\n",
      "Trainable params: 16,846,277\n",
      "Non-trainable params: 0\n",
      "_________________________________________________________________\n"
     ]
    }
   ],
   "source": [
    "model.summary()"
   ]
  },
  {
   "cell_type": "code",
   "execution_count": 6,
   "metadata": {},
   "outputs": [
    {
     "name": "stdout",
     "output_type": "stream",
     "text": [
      "This is the number of trainable weights before freezing the conv base: 30\n"
     ]
    }
   ],
   "source": [
    "print('This is the number of trainable weights '\n",
    "      'before freezing the conv base:', len(model.trainable_weights))"
   ]
  },
  {
   "cell_type": "code",
   "execution_count": 7,
   "metadata": {},
   "outputs": [],
   "source": [
    "conv_base.trainable = False"
   ]
  },
  {
   "cell_type": "code",
   "execution_count": 8,
   "metadata": {},
   "outputs": [
    {
     "name": "stdout",
     "output_type": "stream",
     "text": [
      "This is the number of trainable weights after freezing the conv base: 4\n"
     ]
    }
   ],
   "source": [
    "print('This is the number of trainable weights '\n",
    "      'after freezing the conv base:', len(model.trainable_weights))"
   ]
  },
  {
   "cell_type": "code",
   "execution_count": 9,
   "metadata": {},
   "outputs": [
    {
     "name": "stdout",
     "output_type": "stream",
     "text": [
      "./dogImages/train\n"
     ]
    }
   ],
   "source": [
    "print(train_dir)"
   ]
  },
  {
   "cell_type": "code",
   "execution_count": 10,
   "metadata": {},
   "outputs": [
    {
     "name": "stdout",
     "output_type": "stream",
     "text": [
      "Found 6680 images belonging to 133 classes.\n",
      "Found 835 images belonging to 133 classes.\n"
     ]
    }
   ],
   "source": [
    "from keras import optimizers\n",
    "from keras.preprocessing.image import ImageDataGenerator\n",
    "\n",
    "train_datagen = ImageDataGenerator(\n",
    "      rescale=1./255,\n",
    "      rotation_range=40,\n",
    "      width_shift_range=0.2,\n",
    "      height_shift_range=0.2,\n",
    "      shear_range=0.2,\n",
    "      zoom_range=0.2,\n",
    "      horizontal_flip=True,\n",
    "      fill_mode='nearest')\n",
    "\n",
    "# Note that the validation data should not be augmented!\n",
    "validation_datagen = ImageDataGenerator(rescale=1./255)\n",
    "\n",
    "train_generator = train_datagen.flow_from_directory(\n",
    "        # This is the target directory\n",
    "        train_dir,\n",
    "        # All images will be resized to 150x150\n",
    "        target_size=(150, 150),\n",
    "        batch_size=20,\n",
    "        # Since we use binary_crossentropy loss, we need binary labels\n",
    "        class_mode='categorical')\n",
    "\n",
    "validation_generator = validation_datagen.flow_from_directory(\n",
    "        validation_dir,\n",
    "        target_size=(150, 150),\n",
    "        batch_size=20,\n",
    "        class_mode='categorical')\n",
    "\n",
    "model.compile(loss='binary_crossentropy',\n",
    "              optimizer=optimizers.RMSprop(lr=2e-5),\n",
    "              metrics=['acc'])"
   ]
  },
  {
   "cell_type": "code",
   "execution_count": 11,
   "metadata": {
    "scrolled": false
   },
   "outputs": [
    {
     "name": "stdout",
     "output_type": "stream",
     "text": [
      "Epoch 1/50\n",
      " - 20s - loss: 0.0450 - acc: 0.9925 - val_loss: 0.0445 - val_acc: 0.9925\n",
      "\n",
      "Epoch 00001: val_loss improved from inf to 0.04453, saving model to dogClassify.pretrained.augmentation.model.weights.best.hdf5\n",
      "Epoch 2/50\n",
      " - 18s - loss: 0.0444 - acc: 0.9925 - val_loss: 0.0442 - val_acc: 0.9925\n",
      "\n",
      "Epoch 00002: val_loss improved from 0.04453 to 0.04424, saving model to dogClassify.pretrained.augmentation.model.weights.best.hdf5\n",
      "Epoch 3/50\n",
      " - 18s - loss: 0.0441 - acc: 0.9925 - val_loss: 0.0440 - val_acc: 0.9925\n",
      "\n",
      "Epoch 00003: val_loss improved from 0.04424 to 0.04399, saving model to dogClassify.pretrained.augmentation.model.weights.best.hdf5\n",
      "Epoch 4/50\n",
      " - 19s - loss: 0.0438 - acc: 0.9925 - val_loss: 0.0437 - val_acc: 0.9925\n",
      "\n",
      "Epoch 00004: val_loss improved from 0.04399 to 0.04372, saving model to dogClassify.pretrained.augmentation.model.weights.best.hdf5\n",
      "Epoch 5/50\n",
      " - 18s - loss: 0.0437 - acc: 0.9925 - val_loss: 0.0435 - val_acc: 0.9925\n",
      "\n",
      "Epoch 00005: val_loss improved from 0.04372 to 0.04354, saving model to dogClassify.pretrained.augmentation.model.weights.best.hdf5\n",
      "Epoch 6/50\n",
      " - 18s - loss: 0.0436 - acc: 0.9925 - val_loss: 0.0434 - val_acc: 0.9925\n",
      "\n",
      "Epoch 00006: val_loss improved from 0.04354 to 0.04341, saving model to dogClassify.pretrained.augmentation.model.weights.best.hdf5\n",
      "Epoch 7/50\n",
      " - 18s - loss: 0.0434 - acc: 0.9925 - val_loss: 0.0431 - val_acc: 0.9925\n",
      "\n",
      "Epoch 00007: val_loss improved from 0.04341 to 0.04313, saving model to dogClassify.pretrained.augmentation.model.weights.best.hdf5\n",
      "Epoch 8/50\n",
      " - 18s - loss: 0.0432 - acc: 0.9925 - val_loss: 0.0430 - val_acc: 0.9925\n",
      "\n",
      "Epoch 00008: val_loss improved from 0.04313 to 0.04304, saving model to dogClassify.pretrained.augmentation.model.weights.best.hdf5\n",
      "Epoch 9/50\n",
      " - 18s - loss: 0.0428 - acc: 0.9925 - val_loss: 0.0427 - val_acc: 0.9925\n",
      "\n",
      "Epoch 00009: val_loss improved from 0.04304 to 0.04273, saving model to dogClassify.pretrained.augmentation.model.weights.best.hdf5\n",
      "Epoch 10/50\n",
      " - 18s - loss: 0.0430 - acc: 0.9925 - val_loss: 0.0425 - val_acc: 0.9925\n",
      "\n",
      "Epoch 00010: val_loss improved from 0.04273 to 0.04254, saving model to dogClassify.pretrained.augmentation.model.weights.best.hdf5\n",
      "Epoch 11/50\n",
      " - 18s - loss: 0.0425 - acc: 0.9925 - val_loss: 0.0423 - val_acc: 0.9925\n",
      "\n",
      "Epoch 00011: val_loss improved from 0.04254 to 0.04228, saving model to dogClassify.pretrained.augmentation.model.weights.best.hdf5\n",
      "Epoch 12/50\n",
      " - 18s - loss: 0.0422 - acc: 0.9925 - val_loss: 0.0421 - val_acc: 0.9925\n",
      "\n",
      "Epoch 00012: val_loss improved from 0.04228 to 0.04206, saving model to dogClassify.pretrained.augmentation.model.weights.best.hdf5\n",
      "Epoch 13/50\n",
      " - 18s - loss: 0.0423 - acc: 0.9925 - val_loss: 0.0419 - val_acc: 0.9925\n",
      "\n",
      "Epoch 00013: val_loss improved from 0.04206 to 0.04188, saving model to dogClassify.pretrained.augmentation.model.weights.best.hdf5\n",
      "Epoch 14/50\n",
      " - 18s - loss: 0.0419 - acc: 0.9925 - val_loss: 0.0416 - val_acc: 0.9925\n",
      "\n",
      "Epoch 00014: val_loss improved from 0.04188 to 0.04165, saving model to dogClassify.pretrained.augmentation.model.weights.best.hdf5\n",
      "Epoch 15/50\n",
      " - 18s - loss: 0.0415 - acc: 0.9925 - val_loss: 0.0413 - val_acc: 0.9925\n",
      "\n",
      "Epoch 00015: val_loss improved from 0.04165 to 0.04134, saving model to dogClassify.pretrained.augmentation.model.weights.best.hdf5\n",
      "Epoch 16/50\n",
      " - 18s - loss: 0.0417 - acc: 0.9925 - val_loss: 0.0412 - val_acc: 0.9925\n",
      "\n",
      "Epoch 00016: val_loss improved from 0.04134 to 0.04122, saving model to dogClassify.pretrained.augmentation.model.weights.best.hdf5\n",
      "Epoch 17/50\n",
      " - 17s - loss: 0.0413 - acc: 0.9925 - val_loss: 0.0409 - val_acc: 0.9925\n",
      "\n",
      "Epoch 00017: val_loss improved from 0.04122 to 0.04094, saving model to dogClassify.pretrained.augmentation.model.weights.best.hdf5\n",
      "Epoch 18/50\n",
      " - 19s - loss: 0.0411 - acc: 0.9925 - val_loss: 0.0405 - val_acc: 0.9925\n",
      "\n",
      "Epoch 00018: val_loss improved from 0.04094 to 0.04054, saving model to dogClassify.pretrained.augmentation.model.weights.best.hdf5\n",
      "Epoch 19/50\n",
      " - 18s - loss: 0.0408 - acc: 0.9925 - val_loss: 0.0406 - val_acc: 0.9925\n",
      "\n",
      "Epoch 00019: val_loss did not improve from 0.04054\n",
      "Epoch 20/50\n",
      " - 18s - loss: 0.0405 - acc: 0.9925 - val_loss: 0.0404 - val_acc: 0.9925\n",
      "\n",
      "Epoch 00020: val_loss improved from 0.04054 to 0.04043, saving model to dogClassify.pretrained.augmentation.model.weights.best.hdf5\n",
      "Epoch 21/50\n",
      " - 18s - loss: 0.0404 - acc: 0.9925 - val_loss: 0.0400 - val_acc: 0.9925\n",
      "\n",
      "Epoch 00021: val_loss improved from 0.04043 to 0.04000, saving model to dogClassify.pretrained.augmentation.model.weights.best.hdf5\n",
      "Epoch 22/50\n",
      " - 18s - loss: 0.0402 - acc: 0.9925 - val_loss: 0.0398 - val_acc: 0.9925\n",
      "\n",
      "Epoch 00022: val_loss improved from 0.04000 to 0.03979, saving model to dogClassify.pretrained.augmentation.model.weights.best.hdf5\n",
      "Epoch 23/50\n",
      " - 18s - loss: 0.0401 - acc: 0.9925 - val_loss: 0.0398 - val_acc: 0.9925\n",
      "\n",
      "Epoch 00023: val_loss did not improve from 0.03979\n",
      "Epoch 24/50\n",
      " - 18s - loss: 0.0395 - acc: 0.9925 - val_loss: 0.0392 - val_acc: 0.9925\n",
      "\n",
      "Epoch 00024: val_loss improved from 0.03979 to 0.03918, saving model to dogClassify.pretrained.augmentation.model.weights.best.hdf5\n",
      "Epoch 25/50\n",
      " - 19s - loss: 0.0397 - acc: 0.9925 - val_loss: 0.0393 - val_acc: 0.9925\n",
      "\n",
      "Epoch 00025: val_loss did not improve from 0.03918\n",
      "Epoch 26/50\n",
      " - 18s - loss: 0.0394 - acc: 0.9925 - val_loss: 0.0390 - val_acc: 0.9925\n",
      "\n",
      "Epoch 00026: val_loss improved from 0.03918 to 0.03898, saving model to dogClassify.pretrained.augmentation.model.weights.best.hdf5\n",
      "Epoch 27/50\n",
      " - 19s - loss: 0.0394 - acc: 0.9925 - val_loss: 0.0388 - val_acc: 0.9925\n",
      "\n",
      "Epoch 00027: val_loss improved from 0.03898 to 0.03881, saving model to dogClassify.pretrained.augmentation.model.weights.best.hdf5\n",
      "Epoch 28/50\n",
      " - 18s - loss: 0.0387 - acc: 0.9925 - val_loss: 0.0385 - val_acc: 0.9925\n",
      "\n",
      "Epoch 00028: val_loss improved from 0.03881 to 0.03849, saving model to dogClassify.pretrained.augmentation.model.weights.best.hdf5\n",
      "Epoch 29/50\n",
      " - 18s - loss: 0.0390 - acc: 0.9925 - val_loss: 0.0385 - val_acc: 0.9925\n",
      "\n",
      "Epoch 00029: val_loss improved from 0.03849 to 0.03849, saving model to dogClassify.pretrained.augmentation.model.weights.best.hdf5\n",
      "Epoch 30/50\n",
      " - 18s - loss: 0.0390 - acc: 0.9925 - val_loss: 0.0381 - val_acc: 0.9925\n",
      "\n",
      "Epoch 00030: val_loss improved from 0.03849 to 0.03810, saving model to dogClassify.pretrained.augmentation.model.weights.best.hdf5\n",
      "Epoch 31/50\n",
      " - 18s - loss: 0.0387 - acc: 0.9925 - val_loss: 0.0381 - val_acc: 0.9925\n",
      "\n",
      "Epoch 00031: val_loss did not improve from 0.03810\n",
      "Epoch 32/50\n",
      " - 18s - loss: 0.0381 - acc: 0.9925 - val_loss: 0.0377 - val_acc: 0.9926\n",
      "\n",
      "Epoch 00032: val_loss improved from 0.03810 to 0.03766, saving model to dogClassify.pretrained.augmentation.model.weights.best.hdf5\n",
      "Epoch 33/50\n",
      " - 18s - loss: 0.0379 - acc: 0.9925 - val_loss: 0.0376 - val_acc: 0.9925\n",
      "\n",
      "Epoch 00033: val_loss improved from 0.03766 to 0.03765, saving model to dogClassify.pretrained.augmentation.model.weights.best.hdf5\n",
      "Epoch 34/50\n",
      " - 18s - loss: 0.0378 - acc: 0.9925 - val_loss: 0.0375 - val_acc: 0.9926\n",
      "\n",
      "Epoch 00034: val_loss improved from 0.03765 to 0.03747, saving model to dogClassify.pretrained.augmentation.model.weights.best.hdf5\n",
      "Epoch 35/50\n",
      " - 18s - loss: 0.0377 - acc: 0.9925 - val_loss: 0.0375 - val_acc: 0.9925\n",
      "\n",
      "Epoch 00035: val_loss did not improve from 0.03747\n",
      "Epoch 36/50\n",
      " - 19s - loss: 0.0376 - acc: 0.9925 - val_loss: 0.0369 - val_acc: 0.9925\n",
      "\n",
      "Epoch 00036: val_loss improved from 0.03747 to 0.03687, saving model to dogClassify.pretrained.augmentation.model.weights.best.hdf5\n",
      "Epoch 37/50\n",
      " - 18s - loss: 0.0375 - acc: 0.9925 - val_loss: 0.0370 - val_acc: 0.9925\n",
      "\n",
      "Epoch 00037: val_loss did not improve from 0.03687\n",
      "Epoch 38/50\n",
      " - 18s - loss: 0.0373 - acc: 0.9925 - val_loss: 0.0367 - val_acc: 0.9926\n",
      "\n",
      "Epoch 00038: val_loss improved from 0.03687 to 0.03674, saving model to dogClassify.pretrained.augmentation.model.weights.best.hdf5\n",
      "Epoch 39/50\n",
      " - 17s - loss: 0.0371 - acc: 0.9925 - val_loss: 0.0365 - val_acc: 0.9926\n",
      "\n",
      "Epoch 00039: val_loss improved from 0.03674 to 0.03647, saving model to dogClassify.pretrained.augmentation.model.weights.best.hdf5\n",
      "Epoch 40/50\n",
      " - 19s - loss: 0.0370 - acc: 0.9925 - val_loss: 0.0363 - val_acc: 0.9926\n",
      "\n",
      "Epoch 00040: val_loss improved from 0.03647 to 0.03626, saving model to dogClassify.pretrained.augmentation.model.weights.best.hdf5\n",
      "Epoch 41/50\n"
     ]
    },
    {
     "name": "stdout",
     "output_type": "stream",
     "text": [
      " - 19s - loss: 0.0367 - acc: 0.9925 - val_loss: 0.0362 - val_acc: 0.9926\n",
      "\n",
      "Epoch 00041: val_loss improved from 0.03626 to 0.03624, saving model to dogClassify.pretrained.augmentation.model.weights.best.hdf5\n",
      "Epoch 42/50\n",
      " - 17s - loss: 0.0367 - acc: 0.9925 - val_loss: 0.0361 - val_acc: 0.9926\n",
      "\n",
      "Epoch 00042: val_loss improved from 0.03624 to 0.03612, saving model to dogClassify.pretrained.augmentation.model.weights.best.hdf5\n",
      "Epoch 43/50\n",
      " - 18s - loss: 0.0365 - acc: 0.9925 - val_loss: 0.0359 - val_acc: 0.9926\n",
      "\n",
      "Epoch 00043: val_loss improved from 0.03612 to 0.03591, saving model to dogClassify.pretrained.augmentation.model.weights.best.hdf5\n",
      "Epoch 44/50\n",
      " - 18s - loss: 0.0365 - acc: 0.9925 - val_loss: 0.0360 - val_acc: 0.9925\n",
      "\n",
      "Epoch 00044: val_loss did not improve from 0.03591\n",
      "Epoch 45/50\n",
      " - 18s - loss: 0.0357 - acc: 0.9925 - val_loss: 0.0352 - val_acc: 0.9926\n",
      "\n",
      "Epoch 00045: val_loss improved from 0.03591 to 0.03520, saving model to dogClassify.pretrained.augmentation.model.weights.best.hdf5\n",
      "Epoch 46/50\n",
      " - 18s - loss: 0.0363 - acc: 0.9925 - val_loss: 0.0354 - val_acc: 0.9926\n",
      "\n",
      "Epoch 00046: val_loss did not improve from 0.03520\n",
      "Epoch 47/50\n",
      " - 18s - loss: 0.0359 - acc: 0.9925 - val_loss: 0.0353 - val_acc: 0.9926\n",
      "\n",
      "Epoch 00047: val_loss did not improve from 0.03520\n",
      "Epoch 48/50\n",
      " - 18s - loss: 0.0355 - acc: 0.9925 - val_loss: 0.0354 - val_acc: 0.9926\n",
      "\n",
      "Epoch 00048: val_loss did not improve from 0.03520\n",
      "Epoch 49/50\n",
      " - 17s - loss: 0.0356 - acc: 0.9925 - val_loss: 0.0348 - val_acc: 0.9926\n",
      "\n",
      "Epoch 00049: val_loss improved from 0.03520 to 0.03480, saving model to dogClassify.pretrained.augmentation.model.weights.best.hdf5\n",
      "Epoch 50/50\n",
      " - 18s - loss: 0.0354 - acc: 0.9925 - val_loss: 0.0351 - val_acc: 0.9926\n",
      "\n",
      "Epoch 00050: val_loss did not improve from 0.03480\n"
     ]
    }
   ],
   "source": [
    "from keras.callbacks import ModelCheckpoint   \n",
    "\n",
    "#为了解决一个bug，OSError\n",
    "from PIL import ImageFile\n",
    "ImageFile.LOAD_TRUNCATED_IMAGES = True\n",
    "\n",
    "checkpointer = ModelCheckpoint(filepath='dogClassify.pretrained.augmentation.model.weights.best.hdf5', \n",
    "                               verbose=1, \n",
    "                               save_best_only=True)\n",
    "history = model.fit_generator(\n",
    "      train_generator,\n",
    "      steps_per_epoch=100,\n",
    "      epochs=50,\n",
    "      validation_data=validation_generator,\n",
    "      validation_steps=50, \n",
    "      callbacks=[checkpointer], \n",
    "      verbose=2)"
   ]
  },
  {
   "cell_type": "code",
   "execution_count": 12,
   "metadata": {},
   "outputs": [],
   "source": [
    "model.load_weights('dogClassify.pretrained.augmentation.model.weights.best.hdf5')"
   ]
  },
  {
   "cell_type": "code",
   "execution_count": 13,
   "metadata": {},
   "outputs": [
    {
     "name": "stdout",
     "output_type": "stream",
     "text": [
      "Found 836 images belonging to 133 classes.\n"
     ]
    },
    {
     "data": {
      "text/plain": [
       "[0.0349454373559531, 0.9925254583358765]"
      ]
     },
     "execution_count": 13,
     "metadata": {},
     "output_type": "execute_result"
    }
   ],
   "source": [
    "test_datagen = ImageDataGenerator(rescale=1./255)\n",
    "test_generator = test_datagen.flow_from_directory(\n",
    "        test_dir,\n",
    "        target_size=(150, 150),\n",
    "        batch_size=20,\n",
    "        class_mode='categorical')\n",
    "\n",
    "model.evaluate_generator(test_generator,steps=17, max_queue_size=50, workers=1, use_multiprocessing=True, verbose=0)"
   ]
  },
  {
   "cell_type": "code",
   "execution_count": 15,
   "metadata": {},
   "outputs": [
    {
     "data": {
      "image/png": "[encoded data removed]",
      "text/plain": [
       "<Figure size 432x288 with 1 Axes>"
      ]
     },
     "metadata": {
      "needs_background": "light"
     },
     "output_type": "display_data"
    },
    {
     "data": {
      "image/png": "[encoded data removed]",
      "text/plain": [
       "<Figure size 432x288 with 1 Axes>"
      ]
     },
     "metadata": {
      "needs_background": "light"
     },
     "output_type": "display_data"
    }
   ],
   "source": [
    "import matplotlib.pyplot as plt \n",
    "acc = history.history['acc']\n",
    "val_acc = history.history['val_acc']\n",
    "loss = history.history['loss']\n",
    "val_loss = history.history['val_loss']\n",
    "\n",
    "epochs = range(len(acc))\n",
    "\n",
    "plt.plot(epochs, acc, 'bo', label='Training acc')\n",
    "plt.plot(epochs, val_acc, 'b', label='Validation acc')\n",
    "plt.title('Training and validation accuracy')\n",
    "plt.legend()\n",
    "\n",
    "plt.figure()\n",
    "\n",
    "plt.plot(epochs, loss, 'bo', label='Training loss')\n",
    "plt.plot(epochs, val_loss, 'b', label='Validation loss')\n",
    "plt.title('Training and validation loss')\n",
    "plt.legend()\n",
    "\n",
    "plt.show()"
   ]
  },
  {
   "cell_type": "code",
   "execution_count": null,
   "metadata": {},
   "outputs": [],
   "source": []
  }
 ],
 "metadata": {
  "kernelspec": {
   "display_name": "Python 3",
   "language": "python",
   "name": "python3"
  },
  "language_info": {
   "codemirror_mode": {
    "name": "ipython",
    "version": 3
   },
   "file_extension": ".py",
   "mimetype": "text/x-python",
   "name": "python",
   "nbconvert_exporter": "python",
   "pygments_lexer": "ipython3",
   "version": "3.6.7"
  }
 },
 "nbformat": 4,
 "nbformat_minor": 2
}
